{
 "cells": [
  {
   "cell_type": "code",
   "execution_count": null,
   "metadata": {},
   "outputs": [],
   "source": [
    "using Dates\n",
    "\n",
    "include(\"src/macros.jl\");\n",
    "include(\"src/ops/Collect.jl\");\n",
    "include(\"src/ops/Aggregate.jl\");"
   ]
  },
  {
   "cell_type": "code",
   "execution_count": null,
   "metadata": {},
   "outputs": [],
   "source": [
    "data = [\n",
    "    (DateTime(\"2020-01-01T12:00:00\"), 1.1),\n",
    "    (DateTime(\"2020-01-01T12:01:00\"), 1.0),\n",
    "    (DateTime(\"2020-01-01T12:03:00\"), 1.3),\n",
    "    (DateTime(\"2020-01-01T12:06:00\"), 1.6),\n",
    "    (DateTime(\"2020-01-01T12:11:00\"), 1.2),\n",
    "    (DateTime(\"2020-01-01T13:11:00\"), 1.7),\n",
    "    (DateTime(\"2020-01-01T14:11:00\"), 1.8),\n",
    "]\n",
    "\n",
    "collector = Collect{Any}()\n",
    "agg = @streamops begin\n",
    "    Aggregate{eltype(data),DateTime}(;\n",
    "        key_fn=v -> round(v[1], Dates.Minute(5), RoundUp),\n",
    "        agg_fn=(key, buffer) -> begin\n",
    "            (key, last(map(x -> x[2], buffer)))\n",
    "        end\n",
    "    )\n",
    "    @filter isnothing\n",
    "    collector\n",
    "end\n",
    "\n",
    "agg.(data)\n",
    "collector.out"
   ]
  }
 ],
 "metadata": {
  "kernelspec": {
   "display_name": "Julia 1.9.4",
   "language": "julia",
   "name": "julia-1.9"
  },
  "language_info": {
   "file_extension": ".jl",
   "mimetype": "application/julia",
   "name": "julia",
   "version": "1.9.4"
  }
 },
 "nbformat": 4,
 "nbformat_minor": 2
}
