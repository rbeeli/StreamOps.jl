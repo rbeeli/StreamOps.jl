{
 "cells": [
  {
   "cell_type": "code",
   "execution_count": 3,
   "metadata": {},
   "outputs": [],
   "source": [
    "using Dates\n",
    "\n",
    "include(\"src/macros.jl\");\n",
    "include(\"src/ops/Collect.jl\");\n",
    "include(\"src/ops/Aggregate.jl\");"
   ]
  },
  {
   "cell_type": "code",
   "execution_count": 4,
   "metadata": {},
   "outputs": [
    {
     "data": {
      "text/plain": [
       "2-element Vector{Any}:\n",
       " nothing\n",
       " nothing"
      ]
     },
     "metadata": {},
     "output_type": "display_data"
    }
   ],
   "source": [
    "data = [\n",
    "    (DateTime(\"2020-01-01T12:00:00\"), 1.1),\n",
    "    (DateTime(\"2020-01-01T12:01:00\"), 1.0),\n",
    "    (DateTime(\"2020-01-01T12:03:00\"), 1.3),\n",
    "    (DateTime(\"2020-01-01T12:06:00\"), 1.6),\n",
    "    (DateTime(\"2020-01-01T12:11:00\"), 1.2),\n",
    "    (DateTime(\"2020-01-01T13:11:00\"), 1.7),\n",
    "    (DateTime(\"2020-01-01T14:11:00\"), 1.8),\n",
    "]\n",
    "\n",
    "collector = Collect{Any}()\n",
    "agg = @streamops begin\n",
    "    Aggregate{eltype(data),DateTime}(;\n",
    "        key_fn=v -> round(v[1], Dates.Minute(5), RoundUp),\n",
    "        agg_fn=(key, buffer) -> begin\n",
    "            (key, last(map(x -> x[2], buffer)))\n",
    "        end\n",
    "    )\n",
    "    @filter isnothing\n",
    "    collector\n",
    "end\n",
    "\n",
    "agg.(data)\n",
    "collector.out"
   ]
  }
 ],
 "metadata": {
  "kernelspec": {
   "display_name": "Julia 1.10.0",
   "language": "julia",
   "name": "julia-1.10"
  },
  "language_info": {
   "file_extension": ".jl",
   "mimetype": "application/julia",
   "name": "julia",
   "version": "1.10.0"
  }
 },
 "nbformat": 4,
 "nbformat_minor": 2
}
