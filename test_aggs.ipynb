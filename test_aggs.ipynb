{
 "cells": [
  {
   "cell_type": "code",
   "execution_count": 5,
   "metadata": {},
   "outputs": [],
   "source": [
    "using Dates\n",
    "include(\"src/ops/Op.jl\");\n",
    "include(\"src/ops/OpNone.jl\");\n",
    "include(\"src/ops/OpReturn.jl\");\n",
    "include(\"src/aggs/AggPeriodFn.jl\");"
   ]
  },
  {
   "cell_type": "code",
   "execution_count": 6,
   "metadata": {},
   "outputs": [
    {
     "data": {
      "text/plain": [
       "7-element Vector{Union{Nothing, Tuple{DateTime, Float64}}}:\n",
       " (DateTime(\"2020-01-01T12:00:00\"), 1.1)\n",
       " nothing\n",
       " nothing\n",
       " (DateTime(\"2020-01-01T12:05:00\"), 1.3)\n",
       " (DateTime(\"2020-01-01T12:10:00\"), 1.6)\n",
       " (DateTime(\"2020-01-01T12:15:00\"), 1.2)\n",
       " (DateTime(\"2020-01-01T13:15:00\"), 1.7)"
      ]
     },
     "metadata": {},
     "output_type": "display_data"
    }
   ],
   "source": [
    "data = [\n",
    "    (DateTime(\"2020-01-01T12:00:00\"), 1.1),\n",
    "    (DateTime(\"2020-01-01T12:01:00\"), 1.0),\n",
    "    (DateTime(\"2020-01-01T12:03:00\"), 1.3),\n",
    "    (DateTime(\"2020-01-01T12:06:00\"), 1.6),\n",
    "    (DateTime(\"2020-01-01T12:11:00\"), 1.2),\n",
    "    (DateTime(\"2020-01-01T13:11:00\"), 1.7),\n",
    "    (DateTime(\"2020-01-01T14:11:00\"), 1.8),\n",
    "]\n",
    "\n",
    "\n",
    "agg = AggPeriodFn{eltype(data),DateTime}(;\n",
    "    date_fn=value -> value[1],\n",
    "    period_fn=date -> round_origin(date, Dates.Minute(5)),\n",
    "    agg_fn=(period, buffer) -> begin\n",
    "        (period, last(map(x -> x[2], buffer)))\n",
    "    end,\n",
    "    next=OpReturn()\n",
    ")\n",
    "\n",
    "agg.(data)"
   ]
  }
 ],
 "metadata": {
  "kernelspec": {
   "display_name": "Julia 1.9.4",
   "language": "julia",
   "name": "julia-1.9"
  },
  "language_info": {
   "file_extension": ".jl",
   "mimetype": "application/julia",
   "name": "julia",
   "version": "1.9.4"
  }
 },
 "nbformat": 4,
 "nbformat_minor": 2
}
