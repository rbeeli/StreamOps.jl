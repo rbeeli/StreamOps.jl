{
 "cells": [
  {
   "cell_type": "code",
   "execution_count": null,
   "metadata": {},
   "outputs": [],
   "source": [
    "using StreamOps"
   ]
  },
  {
   "cell_type": "code",
   "execution_count": null,
   "metadata": {},
   "outputs": [],
   "source": [
    "macro pipeline2(ops...)\n",
    "    # start with the last operation (which must specify its 'next' argument or use default)\n",
    "    pipeline_expr = ops[end]\n",
    "\n",
    "    # escape variable if symbol\n",
    "    if isa(pipeline_expr, Symbol)\n",
    "        pipeline_expr = :($(esc(pipeline_expr)))\n",
    "    end\n",
    "\n",
    "    # iterate in reverse order, wrapping each operation around the succeeding one\n",
    "    # by setting the 'next' named argument to the succeeding operation\n",
    "    for op in reverse(ops[1:end-1])\n",
    "        if !(op isa Expr) || op.head != :call\n",
    "            error(\"@pipeline expects instance creation expressions like OpReturn(), OpPrint(), etc., but got: $op\")\n",
    "        end\n",
    "\n",
    "        next_set = false\n",
    "        for arg in op.args[2:end]\n",
    "            if isa(arg, Expr) && arg.head == :parameters\n",
    "                for kwarg in arg.args\n",
    "                    if isa(kwarg, Expr) && kwarg.head == :kw && kwarg.args[1] == :next\n",
    "                        throw(ErrorException(\"Keyword argument 'next' already set in operation: $op\"))\n",
    "                    end\n",
    "                end\n",
    "\n",
    "                # Append 'next=OpX' to parameters block\n",
    "                push!(arg.args, Expr(:kw, :next, pipeline_expr))\n",
    "                next_set = true\n",
    "            end\n",
    "        end\n",
    "\n",
    "        if !next_set\n",
    "            # Insert named parameters block with chained operation before lambda or other args\n",
    "            insert!(op.args, 2, Expr(:parameters, Expr(:kw, :next, pipeline_expr)))\n",
    "        end\n",
    "        \n",
    "        pipeline_expr = op\n",
    "    end\n",
    "\n",
    "    pipeline_expr\n",
    "end\n",
    "\n",
    "pipe = @pipeline2 OpPrint(; print_fn=println) OpReturn()\n",
    "# pipe = @pipeline2 OpReturn()\n",
    "# println(pipeline(1.0))\n",
    "# @code_lowered pipe(1.0)\n",
    "println(\"result: $(pipe(1.0))\")"
   ]
  },
  {
   "cell_type": "code",
   "execution_count": null,
   "metadata": {},
   "outputs": [],
   "source": [
    "@macroexpand @pipeline2 OpFunc(x -> abs(x)^2) OpLag{Float64}(1) OpPrint()"
   ]
  },
  {
   "cell_type": "code",
   "execution_count": null,
   "metadata": {},
   "outputs": [],
   "source": [
    "@macroexpand @pipeline2 OpFunc(x -> abs(x)^2) OpLag{Float64}(1) OpPrint()\n",
    "\n",
    "pipe = @pipeline2 OpFunc(x -> abs(x)^2) OpLag{Float64}(1) OpPrint()\n",
    "pipe(1.0)\n",
    "pipe(5.0)\n",
    "pipe(10.0)"
   ]
  },
  {
   "cell_type": "code",
   "execution_count": null,
   "metadata": {},
   "outputs": [],
   "source": [
    "last_op = OpPrint()\n",
    "pipe = @pipeline2 OpFunc(x -> abs(x)^2) OpLag{Float64}(1) last_op\n",
    "pipe(1.0)"
   ]
  },
  {
   "cell_type": "code",
   "execution_count": null,
   "metadata": {},
   "outputs": [],
   "source": [
    "dump(:(OpFunc(x -> abs(x)^2; next=OpLag{Float64}(1; next=OpPrint()))))"
   ]
  }
 ],
 "metadata": {
  "kernelspec": {
   "display_name": "Julia 1.9.4",
   "language": "julia",
   "name": "julia-1.9"
  },
  "language_info": {
   "file_extension": ".jl",
   "mimetype": "application/julia",
   "name": "julia",
   "version": "1.9.4"
  }
 },
 "nbformat": 4,
 "nbformat_minor": 2
}
