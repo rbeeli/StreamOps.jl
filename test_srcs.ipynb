{
 "cells": [
  {
   "cell_type": "code",
   "execution_count": 20,
   "id": "77fc06de-a33c-480b-9396-088d43fac0d9",
   "metadata": {},
   "outputs": [],
   "source": [
    "using Dates\n",
    "\n",
    "include(\"src/macros.jl\");\n",
    "include(\"src/simulation.jl\");\n",
    "include(\"src/ops/Func.jl\");\n",
    "include(\"src/srcs/StreamSource.jl\");\n",
    "include(\"src/srcs/IterableSource.jl\");\n",
    "include(\"src/ops/Collect.jl\");"
   ]
  },
  {
   "cell_type": "code",
   "execution_count": 21,
   "metadata": {},
   "outputs": [
    {
     "data": {
      "text/plain": [
       "7-element Vector{Float64}:\n",
       " 0.2100000000000002\n",
       " 0.0\n",
       " 0.6900000000000002\n",
       " 1.5600000000000005\n",
       " 0.43999999999999995\n",
       " 1.8899999999999997\n",
       " 2.24"
      ]
     },
     "metadata": {},
     "output_type": "display_data"
    },
    {
     "data": {
      "text/plain": [
       "4-element Vector{Float64}:\n",
       " 3.3166247903554\n",
       " 3.40587727318528\n",
       " 3.420526275297414\n",
       " 3.4351128074635335"
      ]
     },
     "metadata": {},
     "output_type": "display_data"
    }
   ],
   "source": [
    "data1 = [\n",
    "    (DateTime(\"2020-01-01T12:00:00\"), 1.1),\n",
    "    (DateTime(\"2020-01-01T12:01:00\"), 1.0),\n",
    "    (DateTime(\"2020-01-01T12:03:00\"), 1.3),\n",
    "    (DateTime(\"2020-01-01T12:06:00\"), 1.6),\n",
    "    (DateTime(\"2020-01-01T12:11:00\"), 1.2),\n",
    "    (DateTime(\"2020-01-01T13:11:00\"), 1.7),\n",
    "    (DateTime(\"2020-01-01T14:11:00\"), 1.8),\n",
    "]\n",
    "\n",
    "data2 = [\n",
    "    (DateTime(\"2020-01-01T12:03:00\"), 11.0),\n",
    "    (DateTime(\"2020-01-01T12:04:00\"), 11.6),\n",
    "    (DateTime(\"2020-01-01T13:09:00\"), 11.7),\n",
    "    (DateTime(\"2020-01-01T14:10:00\"), 11.8),\n",
    "]\n",
    "\n",
    "src1 = IterableSource(data1)\n",
    "src2 = IterableSource(data2)\n",
    "\n",
    "sink1 = Collect{Float64}()\n",
    "sink2 = Collect{Float64}()\n",
    "\n",
    "pipe1 = @streamops Transform(x -> x[2]^2) Transform(x -> x - 1) sink1\n",
    "pipe2 = @streamops Transform(x -> sqrt(x[2])) sink2\n",
    "\n",
    "srcs = [src1, src2]\n",
    "pipes = [pipe1, pipe2]\n",
    "simulate_chronological_stream(DateTime, srcs, pipes)\n",
    "\n",
    "display(sink1.out)\n",
    "display(sink2.out)"
   ]
  },
  {
   "cell_type": "markdown",
   "metadata": {},
   "source": [
    "### PeriodicSource"
   ]
  },
  {
   "cell_type": "code",
   "execution_count": 22,
   "metadata": {},
   "outputs": [
    {
     "name": "stdout",
     "output_type": "stream",
     "text": [
      "2017-01-01T00:00:00\n",
      "2017-01-02T00:00:00\n",
      "2017-01-03T00:00:00\n",
      "2017-01-04T00:00:00\n",
      "2017-01-05T00:00:00\n",
      "2017-01-06T00:00:00\n",
      "2017-01-07T00:00:00\n",
      "2017-01-08T00:00:00\n",
      "2017-01-09T00:00:00\n",
      "nothing\n",
      "nothing\n",
      "nothing\n"
     ]
    }
   ],
   "source": [
    "include(\"src/srcs/PeriodicSource.jl\");\n",
    "\n",
    "periodic_source = PeriodicSource(\n",
    "    DateTime(2017, 1, 1),\n",
    "    DateTime(2017, 1, 10),\n",
    "    Day(1);\n",
    "    inclusive_end=false\n",
    ")\n",
    "\n",
    "for _ in 1:12\n",
    "    println(next!(periodic_source))\n",
    "end"
   ]
  },
  {
   "cell_type": "code",
   "execution_count": 23,
   "metadata": {},
   "outputs": [
    {
     "name": "stdout",
     "output_type": "stream",
     "text": [
      "MethodInstance for next!(::PeriodicSource{DateTime, Day})\n",
      "  from next!(\u001b[90msource\u001b[39m::\u001b[1mPeriodicSource\u001b[22m)\u001b[90m @\u001b[39m \u001b[90mMain\u001b[39m \u001b[90m~/repos/StreamOps.jl/src/srcs/\u001b[39m\u001b[90m\u001b[4mPeriodicSource.jl:31\u001b[24m\u001b[39m\n",
      "Arguments\n",
      "  #self#\u001b[36m::Core.Const(next!)\u001b[39m\n",
      "  source\u001b[36m::PeriodicSource{DateTime, Day}\u001b[39m\n",
      "Locals\n",
      "  date\u001b[36m::DateTime\u001b[39m\n",
      "Body\u001b[33m\u001b[1m::Union{Nothing, DateTime}\u001b[22m\u001b[39m\n",
      "\u001b[90m1 ─\u001b[39m       (date = Base.getproperty(source, :current_date))\n",
      "\u001b[90m│  \u001b[39m %2  = Base.getproperty(source, :inclusive_end)\u001b[36m::Bool\u001b[39m\n",
      "\u001b[90m└──\u001b[39m       goto #6 if not %2\n",
      "\u001b[90m2 ─\u001b[39m %4  = date\u001b[36m::DateTime\u001b[39m\n",
      "\u001b[90m│  \u001b[39m %5  = Base.getproperty(source, :end_date)\u001b[36m::DateTime\u001b[39m\n",
      "\u001b[90m│  \u001b[39m %6  = (%4 > %5)\u001b[36m::Bool\u001b[39m\n",
      "\u001b[90m└──\u001b[39m       goto #5 if not %6\n",
      "\u001b[90m3 ─\u001b[39m       return Main.nothing\n",
      "\u001b[90m4 ─\u001b[39m       Core.Const(:(goto %10))\n",
      "\u001b[90m5 ┄\u001b[39m       goto #9\n",
      "\u001b[90m6 ─\u001b[39m %11 = date\u001b[36m::DateTime\u001b[39m\n",
      "\u001b[90m│  \u001b[39m %12 = Base.getproperty(source, :end_date)\u001b[36m::DateTime\u001b[39m\n",
      "\u001b[90m│  \u001b[39m %13 = (%11 >= %12)\u001b[36m::Bool\u001b[39m\n",
      "\u001b[90m└──\u001b[39m       goto #9 if not %13\n",
      "\u001b[90m7 ─\u001b[39m       return Main.nothing\n",
      "\u001b[90m8 ─\u001b[39m       Core.Const(:(goto %17))\n",
      "\u001b[90m9 ┄\u001b[39m %17 = Base.getproperty(source, :current_date)\u001b[36m::DateTime\u001b[39m\n",
      "\u001b[90m│  \u001b[39m %18 = Base.getproperty(source, :period)\u001b[36m::Day\u001b[39m\n",
      "\u001b[90m│  \u001b[39m %19 = (%17 + %18)\u001b[36m::DateTime\u001b[39m\n",
      "\u001b[90m│  \u001b[39m       Base.setproperty!(source, :current_date, %19)\n",
      "\u001b[90m└──\u001b[39m       return date\n",
      "\n"
     ]
    }
   ],
   "source": [
    "@code_warntype next!(periodic_source)"
   ]
  },
  {
   "cell_type": "markdown",
   "metadata": {},
   "source": [
    "### IterableSource"
   ]
  },
  {
   "cell_type": "code",
   "execution_count": 24,
   "metadata": {},
   "outputs": [
    {
     "name": "stdout",
     "output_type": "stream",
     "text": [
      "1\n",
      "2\n",
      "3\n",
      "4\n",
      "5\n",
      "6\n",
      "7\n",
      "8\n",
      "9\n",
      "10\n",
      "11\n",
      "12\n",
      "13\n",
      "14\n",
      "15\n",
      "nothing\n"
     ]
    }
   ],
   "source": [
    "include(\"src/srcs/IterableSource.jl\");\n",
    "\n",
    "values = collect(1:15)\n",
    "\n",
    "iterable_source = IterableSource(values)\n",
    "\n",
    "for _ in 1:length(values)+1\n",
    "    println(next!(iterable_source))\n",
    "end"
   ]
  },
  {
   "cell_type": "code",
   "execution_count": 25,
   "metadata": {},
   "outputs": [
    {
     "name": "stdout",
     "output_type": "stream",
     "text": [
      "MethodInstance for next!(::IterableSource{Vector{Int64}})\n",
      "  from next!(\u001b[90msrc\u001b[39m::\u001b[1mIterableSource\u001b[22m\u001b[0m{D}) where D\u001b[90m @\u001b[39m \u001b[90mMain\u001b[39m \u001b[90m~/repos/StreamOps.jl/src/srcs/\u001b[39m\u001b[90m\u001b[4mIterableSource.jl:19\u001b[24m\u001b[39m\n",
      "Static Parameters\n",
      "  D = \u001b[36mVector{Int64}\u001b[39m\n",
      "Arguments\n",
      "  #self#\u001b[36m::Core.Const(next!)\u001b[39m\n",
      "  src\u001b[36m::IterableSource{Vector{Int64}}\u001b[39m\n",
      "Locals\n",
      "  val\u001b[36m::Int64\u001b[39m\n",
      "  value\u001b[36m::Int64\u001b[39m\n",
      "  pos\u001b[36m::Int64\u001b[39m\n",
      "Body\u001b[33m\u001b[1m::Union{Nothing, Int64}\u001b[22m\u001b[39m\n",
      "\u001b[90m1 ─\u001b[39m       Core.NewvarNode(:(val))\n",
      "\u001b[90m│  \u001b[39m       Core.NewvarNode(:(value))\n",
      "\u001b[90m│  \u001b[39m       (pos = Base.getproperty(src, :position))\n",
      "\u001b[90m│  \u001b[39m %4  = pos\u001b[36m::Int64\u001b[39m\n",
      "\u001b[90m│  \u001b[39m %5  = Base.getproperty(src, :data)\u001b[36m::Vector{Int64}\u001b[39m\n",
      "\u001b[90m│  \u001b[39m %6  = Main.length(%5)\u001b[36m::Int64\u001b[39m\n",
      "\u001b[90m│  \u001b[39m %7  = (%4 >= %6)\u001b[36m::Bool\u001b[39m\n",
      "\u001b[90m└──\u001b[39m       goto #4 if not %7\n",
      "\u001b[90m2 ─\u001b[39m       return Main.nothing\n",
      "\u001b[90m3 ─\u001b[39m       Core.Const(:(goto %11))\n",
      "\u001b[90m4 ┄\u001b[39m %11 = Base.getproperty(src, :position)\u001b[36m::Int64\u001b[39m\n",
      "\u001b[90m│  \u001b[39m %12 = (%11 + 1)\u001b[36m::Int64\u001b[39m\n",
      "\u001b[90m│  \u001b[39m       Base.setproperty!(src, :position, %12)\n",
      "\u001b[90m│  \u001b[39m       nothing\n",
      "\u001b[90m│  \u001b[39m %15 = Base.getproperty(src, :data)\u001b[36m::Vector{Int64}\u001b[39m\n",
      "\u001b[90m│  \u001b[39m %16 = (pos + 1)\u001b[36m::Int64\u001b[39m\n",
      "\u001b[90m│  \u001b[39m       (val = Base.getindex(%15, %16))\n",
      "\u001b[90m│  \u001b[39m       nothing\n",
      "\u001b[90m│  \u001b[39m       (value = val)\n",
      "\u001b[90m└──\u001b[39m       return value\n",
      "\n"
     ]
    }
   ],
   "source": [
    "# @code_native next!(iterable_source)\n",
    "# @code_llvm debuginfo=:none next!(iterable_source)\n",
    "@code_warntype debuginfo=:none next!(iterable_source)"
   ]
  },
  {
   "cell_type": "markdown",
   "metadata": {},
   "source": [
    "### DataFrameSource"
   ]
  },
  {
   "cell_type": "code",
   "execution_count": 26,
   "metadata": {},
   "outputs": [
    {
     "name": "stdout",
     "output_type": "stream",
     "text": [
      "\u001b[1mDataFrameRow\u001b[0m\n",
      "\u001b[1m Row \u001b[0m│\u001b[1m datetime            \u001b[0m\u001b[1m value \u001b[0m\u001b[1m text   \u001b[0m\n",
      "     │\u001b[90m DateTime            \u001b[0m\u001b[90m Int64 \u001b[0m\u001b[90m String \u001b[0m\n",
      "─────┼────────────────────────────────────\n",
      "   1 │ 2017-01-01T00:00:00      1  a\n",
      "\u001b[1mDataFrameRow\u001b[0m\n",
      "\u001b[1m Row \u001b[0m│\u001b[1m datetime            \u001b[0m\u001b[1m value \u001b[0m\u001b[1m text   \u001b[0m\n",
      "     │\u001b[90m DateTime            \u001b[0m\u001b[90m Int64 \u001b[0m\u001b[90m String \u001b[0m\n",
      "─────┼────────────────────────────────────\n",
      "   2 │ 2017-01-02T00:00:00      2  bc\n",
      "\u001b[1mDataFrameRow\u001b[0m\n",
      "\u001b[1m Row \u001b[0m│\u001b[1m datetime            \u001b[0m\u001b[1m value \u001b[0m\u001b[1m text   \u001b[0m\n",
      "     │\u001b[90m DateTime            \u001b[0m\u001b[90m Int64 \u001b[0m\u001b[90m String \u001b[0m\n",
      "─────┼────────────────────────────────────\n",
      "   3 │ 2017-01-03T00:00:00      3  def\n",
      "nothing\n"
     ]
    },
    {
     "data": {
      "text/plain": [
       "DataFrameRow[]"
      ]
     },
     "metadata": {},
     "output_type": "display_data"
    }
   ],
   "source": [
    "include(\"src/srcs/DataFrameRowSource.jl\");\n",
    "\n",
    "df = DataFrame(\n",
    "    datetime=DateTime.([\"2017-01-01\", \"2017-01-02\", \"2017-01-03\"]),\n",
    "    value=[1, 2, 3],\n",
    "    text=[\"a\", \"bc\", \"def\"])\n",
    "\n",
    "output = DataFrameRow[]\n",
    "\n",
    "# DataFrameRows\n",
    "df_source = DataFrameRowSource(df)\n",
    "\n",
    "for _ in 1:nrow(df)+1\n",
    "    println(next!(df_source))\n",
    "end\n",
    "\n",
    "output"
   ]
  },
  {
   "cell_type": "code",
   "execution_count": 27,
   "metadata": {},
   "outputs": [
    {
     "name": "stdout",
     "output_type": "stream",
     "text": [
      "MethodInstance for next!(::DataFrameRowSource{DataFrame})\n",
      "  from next!(\u001b[90msource\u001b[39m::\u001b[1mDataFrameRowSource\u001b[22m)\u001b[90m @\u001b[39m \u001b[90mMain\u001b[39m \u001b[90m~/repos/StreamOps.jl/src/srcs/\u001b[39m\u001b[90m\u001b[4mDataFrameRowSource.jl:21\u001b[24m\u001b[39m\n",
      "Arguments\n",
      "  #self#\u001b[36m::Core.Const(next!)\u001b[39m\n",
      "  source\u001b[36m::DataFrameRowSource{DataFrame}\u001b[39m\n",
      "Locals\n",
      "  val\u001b[36m::DataFrameRow{DataFrame, DataFrames.Index}\u001b[39m\n",
      "  row\u001b[36m::DataFrameRow{DataFrame, DataFrames.Index}\u001b[39m\n",
      "  pos\u001b[36m::Int64\u001b[39m\n",
      "  @_6\u001b[36m::DataFrameRow{DataFrame, DataFrames.Index}\u001b[39m\n",
      "Body\u001b[33m\u001b[1m::Union{Nothing, DataFrameRow{DataFrame, DataFrames.Index}}\u001b[22m\u001b[39m\n",
      "\u001b[90m1 ─\u001b[39m       Core.NewvarNode(:(val))\n",
      "\u001b[90m│  \u001b[39m       Core.NewvarNode(:(row))\n",
      "\u001b[90m│  \u001b[39m       (pos = Base.getproperty(source, :position))\n",
      "\u001b[90m│  \u001b[39m %4  = pos\u001b[36m::Int64\u001b[39m\n",
      "\u001b[90m│  \u001b[39m %5  = Base.getproperty(source, :df)\u001b[36m::DataFrame\u001b[39m\n",
      "\u001b[90m│  \u001b[39m %6  = Main.size(%5, 1)\u001b[36m::Int64\u001b[39m\n",
      "\u001b[90m│  \u001b[39m %7  = (%4 >= %6)\u001b[36m::Bool\u001b[39m\n",
      "\u001b[90m└──\u001b[39m       goto #4 if not %7\n",
      "\u001b[90m2 ─\u001b[39m       return Main.nothing\n",
      "\u001b[90m3 ─\u001b[39m       Core.Const(:(goto %11))\n",
      "\u001b[90m4 ┄\u001b[39m       nothing\n",
      "\u001b[90m└──\u001b[39m       goto #6 if not true\n",
      "\u001b[90m5 ─\u001b[39m %13 = Base.getproperty(source, :df)\u001b[36m::DataFrame\u001b[39m\n",
      "\u001b[90m│  \u001b[39m %14 = (pos + 1)\u001b[36m::Int64\u001b[39m\n",
      "\u001b[90m│  \u001b[39m       (@_6 = (view)(%13, %14, Main.:(:)))\n",
      "\u001b[90m└──\u001b[39m       goto #7\n",
      "\u001b[90m6 ─\u001b[39m       Core.Const(:(@_6 = false))\n",
      "\u001b[90m7 ┄\u001b[39m       (val = @_6)\n",
      "\u001b[90m│  \u001b[39m       nothing\n",
      "\u001b[90m│  \u001b[39m       (row = val)\n",
      "\u001b[90m│  \u001b[39m %21 = Base.getproperty(source, :position)\u001b[36m::Int64\u001b[39m\n",
      "\u001b[90m│  \u001b[39m %22 = (%21 + 1)\u001b[36m::Int64\u001b[39m\n",
      "\u001b[90m│  \u001b[39m       Base.setproperty!(source, :position, %22)\n",
      "\u001b[90m└──\u001b[39m       return row\n",
      "\n"
     ]
    }
   ],
   "source": [
    "@code_warntype next!(df_source)"
   ]
  },
  {
   "cell_type": "code",
   "execution_count": 28,
   "metadata": {},
   "outputs": [],
   "source": [
    "# include(\"src/ops/OpTimestamper.jl\");\n",
    "\n",
    "# OpTimestamper{DateTime,DateTime}(; date_fn=x -> x)"
   ]
  },
  {
   "cell_type": "markdown",
   "metadata": {},
   "source": [
    "### simulate_chronological_stream"
   ]
  },
  {
   "cell_type": "code",
   "execution_count": 29,
   "id": "4be88599-57cd-4140-b7b2-00fb168c09d0",
   "metadata": {},
   "outputs": [
    {
     "name": "stdout",
     "output_type": "stream",
     "text": [
      "nothing | (2, DateTime(\"2017-01-01T00:00:00\"))\n",
      "(1, DateTime(\"2017-01-02T00:00:00\")) | (2, DateTime(\"2017-01-01T00:00:00\"))\n",
      "(1, DateTime(\"2017-01-02T00:00:00\")) | (2, DateTime(\"2017-01-02T00:00:00\"))\n",
      "(1, DateTime(\"2017-01-02T00:00:00\")) | (2, DateTime(\"2017-01-03T00:00:00\"))\n",
      "(1, DateTime(\"2017-01-05T00:00:00\")) | (2, DateTime(\"2017-01-03T00:00:00\"))\n",
      "(1, DateTime(\"2017-01-05T00:00:00\")) | (2, DateTime(\"2017-01-05T00:00:00\"))\n",
      "(1, DateTime(\"2017-01-05T00:00:00\")) | (2, DateTime(\"2017-01-07T00:00:00\"))\n",
      "(1, DateTime(\"2017-01-10T00:00:00\")) | (2, DateTime(\"2017-01-07T00:00:00\"))\n"
     ]
    }
   ],
   "source": [
    "include(\"src/srcs/PeriodicSource.jl\");\n",
    "include(\"src/srcs/IterableSource.jl\");\n",
    "include(\"src/ops/Combine.jl\");\n",
    "include(\"src/ops/Print.jl\");\n",
    "include(\"src/ops/Func.jl\");\n",
    "include(\"src/ops/Lag.jl\");\n",
    "include(\"src/ops/Print.jl\");\n",
    "include(\"src/macros.jl\");\n",
    "include(\"src/simulation.jl\");\n",
    "\n",
    "dates_source = IterableSource([\n",
    "    (DateTime(2017, 1, 2),)\n",
    "    (DateTime(2017, 1, 5),)\n",
    "    (DateTime(2017, 1, 10),)\n",
    "])\n",
    "\n",
    "numbers_source = IterableSource([\n",
    "    (DateTime(2017, 1, 1), 1.0),\n",
    "    (DateTime(2017, 1, 2), 2.0),\n",
    "    (DateTime(2017, 1, 3), 3.0),\n",
    "    (DateTime(2017, 1, 5), 4.0),\n",
    "    (DateTime(2017, 1, 7), 5.0)\n",
    "])\n",
    "\n",
    "combiner = @streamops begin\n",
    "    Combine{Tuple{Int64,DateTime}}(\n",
    "        2;\n",
    "        slot_fn=evt -> evt[1]\n",
    "    )\n",
    "    # @filter x -> !any(isnothing.(x))\n",
    "    Transform(x -> println(\"$(x[1]) | $(x[2])\"))\n",
    "end\n",
    "\n",
    "pipes = [\n",
    "    @streamops Transform(x -> (1, x[1])) combiner\n",
    "    @streamops Transform(x -> (2, x[1])) combiner\n",
    "]\n",
    "\n",
    "simulate_chronological_stream(\n",
    "    DateTime,\n",
    "    [dates_source, numbers_source],\n",
    "    pipes)"
   ]
  },
  {
   "cell_type": "code",
   "execution_count": 30,
   "metadata": {},
   "outputs": [],
   "source": [
    "@code_warntype simulate_chronological_stream(DateTime, [periodic_source, dates_source, numbers_source])\n",
    "# @code_lowered simulate_chronological_stream(timestamped_sources)"
   ]
  },
  {
   "cell_type": "code",
   "execution_count": 31,
   "metadata": {},
   "outputs": [
    {
     "name": "stdout",
     "output_type": "stream",
     "text": [
      "(DateTime(\"2020-01-01T00:00:00\"), [-100.90481382416148, 3824.203790032726, -0.005360887347502435])\n",
      "(DateTime(\"2020-01-01T00:10:00\"), [36.979465096715025, 3824.203790032726, 0.0033378296461676195])\n",
      "(DateTime(\"2020-01-01T00:15:00\"), [36.979465096715025, -7025.506322542477, -0.0017958328521890602])\n",
      "(DateTime(\"2020-01-01T00:20:00\"), [16.580684473146007, -7025.506322542477, -0.0017958328521890602])\n",
      "(DateTime(\"2020-01-01T00:25:00\"), [16.580684473146007, -7025.506322542477, -0.0009147233139117385])\n",
      "(DateTime(\"2020-01-01T00:30:00\"), [-158.28611404264166, 5818.94513524999, -0.002148225414709444])\n",
      "(DateTime(\"2020-01-01T00:35:00\"), [-158.28611404264166, 5818.94513524999, 0.010174361298481663])\n",
      "(DateTime(\"2020-01-01T00:40:00\"), [16.204620301323025, 12594.659789890926, 0.010174361298481663])\n",
      "(DateTime(\"2020-01-01T00:45:00\"), [192.37819751651637, 12594.659789890926, 0.010174361298481663])\n",
      "(DateTime(\"2020-01-01T00:55:00\"), [-31.333616265803034, -6970.5142515728, 0.010174361298481663])\n",
      "(DateTime(\"2020-01-01T01:05:00\"), [-31.333616265803034, -6484.323897273012, 0.010174361298481663])\n"
     ]
    }
   ],
   "source": [
    "using Statistics\n",
    "\n",
    "include(\"src/ops/Combine.jl\");\n",
    "include(\"src/ops/Aggregate.jl\");\n",
    "include(\"src/macros.jl\");\n",
    "\n",
    "prices_source = IterableSource(\n",
    "    map(x -> (DateTime(2020, 1, 1) + Minute(x), 1e2randn()), 0:9:60)\n",
    ")\n",
    "\n",
    "volumes_source = IterableSource(\n",
    "    map(x -> (DateTime(2020, 1, 1) + Minute(x), 1e4randn()), 0:13:90)\n",
    ")\n",
    "\n",
    "volatility_source = IterableSource(\n",
    "    map(x -> (DateTime(2020, 1, 1) + Minute(x), 5e-3randn()), 0:7:40)\n",
    ")\n",
    "\n",
    "combiner = @streamops begin\n",
    "    Combine{Tuple{Int64,DateTime,Float64}}(\n",
    "        3;\n",
    "        slot_fn=x -> x[1],\n",
    "        combine_fn=x -> begin\n",
    "            map(x -> isnothing(x) ? x : (x[2], x[3]), x)\n",
    "        end\n",
    "    )\n",
    "    @filter x -> !any(isnothing.(x))\n",
    "    Aggregate{Vector{Tuple{DateTime,Float64}},DateTime}(;\n",
    "        key_fn=x -> round(maximum(map(x -> x[1], x)), Dates.Minute(5), RoundUp),\n",
    "        agg_fn=(period, buffer) -> begin\n",
    "            (period, map(x -> x[2], last(buffer)))\n",
    "        end\n",
    "    )\n",
    "    @filter !isnothing\n",
    "    Print()\n",
    "end\n",
    "\n",
    "pipes = [\n",
    "    @streamops Transform(x -> (1, x[1], x[2])) combiner\n",
    "    @streamops Transform(x -> (2, x[1], x[2])) combiner\n",
    "    @streamops Transform(x -> (3, x[1], x[2])) combiner\n",
    "]\n",
    "\n",
    "simulate_chronological_stream(\n",
    "    DateTime,\n",
    "    [prices_source, volumes_source, volatility_source],\n",
    "    pipes\n",
    ")"
   ]
  }
 ],
 "metadata": {
  "kernelspec": {
   "display_name": "Julia 1.10.0",
   "language": "julia",
   "name": "julia-1.10"
  },
  "language_info": {
   "file_extension": ".jl",
   "mimetype": "application/julia",
   "name": "julia",
   "version": "1.10.0"
  }
 },
 "nbformat": 4,
 "nbformat_minor": 5
}
