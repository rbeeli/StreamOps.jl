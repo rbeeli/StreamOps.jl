{
 "cells": [
  {
   "cell_type": "code",
   "execution_count": 3,
   "metadata": {},
   "outputs": [],
   "source": [
    "using Dates\n",
    "\n",
    "include(\"src/macros.jl\");\n",
    "include(\"src/ops/Collect.jl\");\n",
    "include(\"src/ops/Lag.jl\");\n",
    "include(\"src/ops/Diff.jl\");\n",
    "include(\"src/ops/Func.jl\");\n",
    "include(\"src/stats/Mean.jl\");\n",
    "include(\"src/ops/Aggregate.jl\");"
   ]
  },
  {
   "cell_type": "code",
   "execution_count": 2,
   "metadata": {},
   "outputs": [
    {
     "data": {
      "text/plain": [
       "IterableSource{Vector{Int64}}([1, 2, 3, 4, 5, 6, 7, 8, 9, 10, 11, 12, 13, 14, 15], 0)"
      ]
     },
     "metadata": {},
     "output_type": "display_data"
    }
   ],
   "source": [
    "include(\"src/srcs/StreamSource.jl\");\n",
    "include(\"src/srcs/IterableSource.jl\");\n",
    "\n",
    "values = collect(1:15)\n",
    "output = Int64[]\n",
    "\n",
    "iterable_source = IterableSource(values)"
   ]
  }
 ],
 "metadata": {
  "kernelspec": {
   "display_name": "Julia 1.9.4",
   "language": "julia",
   "name": "julia-1.9"
  },
  "language_info": {
   "file_extension": ".jl",
   "mimetype": "application/julia",
   "name": "julia",
   "version": "1.9.4"
  }
 },
 "nbformat": 4,
 "nbformat_minor": 2
}
