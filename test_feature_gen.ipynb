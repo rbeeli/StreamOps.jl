{
 "cells": [
  {
   "cell_type": "code",
   "execution_count": 1,
   "metadata": {},
   "outputs": [],
   "source": [
    "using Dates\n",
    "\n",
    "include(\"src/ops/Collect.jl\");\n",
    "include(\"src/ops/Lag.jl\");\n",
    "include(\"src/ops/Diff.jl\");\n",
    "include(\"src/ops/Func.jl\");\n",
    "include(\"src/ops/Aggregate.jl\");\n",
    "include(\"src/stats/Mean.jl\");\n",
    "include(\"src/macros.jl\");\n",
    "\n",
    "const f32 = Float32;\n",
    "const f64 = Float64;\n",
    "const i32 = Int32;\n",
    "const i64 = Int64;"
   ]
  },
  {
   "cell_type": "code",
   "execution_count": 5,
   "metadata": {},
   "outputs": [
    {
     "data": {
      "text/plain": [
       "14-element Vector{DateTime}:\n",
       " 2020-01-01T00:00:01\n",
       " 2020-01-01T00:00:04\n",
       " 2020-01-01T00:00:07\n",
       " 2020-01-01T00:00:10\n",
       " 2020-01-01T00:00:13\n",
       " 2020-01-01T00:00:16\n",
       " 2020-01-01T00:00:19\n",
       " 2020-01-01T00:00:22\n",
       " 2020-01-01T00:00:25\n",
       " 2020-01-01T00:00:28\n",
       " 2020-01-01T00:00:31\n",
       " 2020-01-01T00:00:34\n",
       " 2020-01-01T00:00:37\n",
       " 2020-01-01T00:00:40"
      ]
     },
     "metadata": {},
     "output_type": "display_data"
    },
    {
     "data": {
      "text/plain": [
       "14×11 Matrix{Float32}:\n",
       "  100.0     0.0     0.0  100.0  100.0  …   100.0   100.0   100.0   100.0\n",
       "  400.0   100.0     0.0  300.0  400.0      250.0   250.0   250.0   250.0\n",
       "  700.0   400.0   100.0  300.0  600.0      400.0   400.0   400.0   400.0\n",
       " 1000.0   700.0   400.0  300.0  600.0      550.0   550.0   550.0   550.0\n",
       " 1300.0  1000.0   700.0  300.0  600.0      700.0   700.0   700.0   700.0\n",
       " 1600.0  1300.0  1000.0  300.0  600.0  …   850.0   850.0   850.0   850.0\n",
       " 1900.0  1600.0  1300.0  300.0  600.0     1150.0  1000.0  1000.0  1000.0\n",
       " 2200.0  1900.0  1600.0  300.0  600.0     1450.0  1150.0  1150.0  1150.0\n",
       " 2500.0  2200.0  1900.0  300.0  600.0     1750.0  1300.0  1300.0  1300.0\n",
       " 2800.0  2500.0  2200.0  300.0  600.0     2050.0  1450.0  1450.0  1450.0\n",
       " 3100.0  2800.0  2500.0  300.0  600.0  …  2350.0  1600.0  1600.0  1600.0\n",
       " 3400.0  3100.0  2800.0  300.0  600.0     2650.0  1750.0  1750.0  1750.0\n",
       " 3700.0  3400.0  3100.0  300.0  600.0     2950.0  2050.0  1900.0  1900.0\n",
       " 4000.0  3700.0  3400.0  300.0  600.0     3250.0  2350.0  2050.0  2050.0"
      ]
     },
     "metadata": {},
     "output_type": "display_data"
    },
    {
     "name": "stdout",
     "output_type": "stream",
     "text": [
      "  0.000011 seconds (62 allocations: 5.891 KiB)\n"
     ]
    }
   ],
   "source": [
    "function run()\n",
    "    data = [(DateTime(2020, 1, 1, 0, 0, i), f32(i * 100)) for i in 1:3:40]\n",
    "\n",
    "    n_features = 11\n",
    "    out = [f32[] for _ in 1:n_features]\n",
    "\n",
    "    pipe = @streamops begin\n",
    "        @broadcast begin\n",
    "            Transform(x -> x[2]) |> Collect(out[1])                       # X\n",
    "            Transform(x -> x[2]) |> Lag{f32}(1) |> Collect(out[2])        # X_{t-1}\n",
    "            Transform(x -> x[2]) |> Lag{f32}(2) |> Collect(out[3])        # X_{t-2}\n",
    "            Transform(x -> x[2]) |> Diff{f32}(1) |> Collect(out[4])       # X_t - X_{t-1}\n",
    "            Transform(x -> x[2]) |> Diff{f32}(2) |> Collect(out[5])       # X_t - X_{t-2}\n",
    "            Transform(x -> x[2]) |> Diff{f32}(3) |> Collect(out[6])       # X_t - X_{t-3}\n",
    "            Transform(x -> x[2]) |> Mean{f32,f32}(3) |> Collect(out[7])   # mean(X_{t-3}, ..., X_t)\n",
    "            Transform(x -> x[2]) |> Mean{f32,f32}(6) |> Collect(out[8])   # mean(X_{t-6}, ..., X_t)\n",
    "            Transform(x -> x[2]) |> Mean{f32,f32}(12) |> Collect(out[9])  # mean(X_{t-12}, ..., X_t)\n",
    "            Transform(x -> x[2]) |> Mean{f32,f32}(24) |> Collect(out[10]) # mean(X_{t-24}, ..., X_t)\n",
    "            Transform(x -> x[2]) |> Mean{f32,f32}(48) |> Collect(out[11]) # mean(X_{t-48}, ..., X_t)\n",
    "        end\n",
    "        Transform(x -> x[1])\n",
    "    end\n",
    "\n",
    "    dates = pipe.(data)\n",
    "    mat = reduce(hcat, out)\n",
    "    dates, mat\n",
    "end\n",
    "\n",
    "dates, mat = @time run()\n",
    "\n",
    "display(dates)\n",
    "display(mat)"
   ]
  },
  {
   "cell_type": "code",
   "execution_count": 4,
   "metadata": {},
   "outputs": [
    {
     "name": "stdout",
     "output_type": "stream",
     "text": [
      "  0.000009 seconds (39 allocations: 3.312 KiB)\n"
     ]
    },
    {
     "data": {
      "text/plain": [
       "14-element Vector{NTuple{11, Float32}}:\n",
       " (100.0, 0.0, 0.0, 100.0, 100.0, 100.0, 100.0, 100.0, 100.0, 100.0, 100.0)\n",
       " (400.0, 100.0, 0.0, 300.0, 400.0, 400.0, 250.0, 250.0, 250.0, 250.0, 250.0)\n",
       " (700.0, 400.0, 100.0, 300.0, 600.0, 700.0, 400.0, 400.0, 400.0, 400.0, 400.0)\n",
       " (1000.0, 700.0, 400.0, 300.0, 600.0, 900.0, 700.0, 550.0, 550.0, 550.0, 550.0)\n",
       " (1300.0, 1000.0, 700.0, 300.0, 600.0, 900.0, 1000.0, 700.0, 700.0, 700.0, 700.0)\n",
       " (1600.0, 1300.0, 1000.0, 300.0, 600.0, 900.0, 1300.0, 850.0, 850.0, 850.0, 850.0)\n",
       " (1900.0, 1600.0, 1300.0, 300.0, 600.0, 900.0, 1600.0, 1150.0, 1000.0, 1000.0, 1000.0)\n",
       " (2200.0, 1900.0, 1600.0, 300.0, 600.0, 900.0, 1900.0, 1450.0, 1150.0, 1150.0, 1150.0)\n",
       " (2500.0, 2200.0, 1900.0, 300.0, 600.0, 900.0, 2200.0, 1750.0, 1300.0, 1300.0, 1300.0)\n",
       " (2800.0, 2500.0, 2200.0, 300.0, 600.0, 900.0, 2500.0, 2050.0, 1450.0, 1450.0, 1450.0)\n",
       " (3100.0, 2800.0, 2500.0, 300.0, 600.0, 900.0, 2800.0, 2350.0, 1600.0, 1600.0, 1600.0)\n",
       " (3400.0, 3100.0, 2800.0, 300.0, 600.0, 900.0, 3100.0, 2650.0, 1750.0, 1750.0, 1750.0)\n",
       " (3700.0, 3400.0, 3100.0, 300.0, 600.0, 900.0, 3400.0, 2950.0, 2050.0, 1900.0, 1900.0)\n",
       " (4000.0, 3700.0, 3400.0, 300.0, 600.0, 900.0, 3700.0, 3250.0, 2350.0, 2050.0, 2050.0)"
      ]
     },
     "metadata": {},
     "output_type": "display_data"
    }
   ],
   "source": [
    "function run()\n",
    "    data = [(DateTime(2020, 1, 1, 0, 0, i), f32(i * 100)) for i in 1:3:40]\n",
    "\n",
    "    n_features = 11\n",
    "    out = [f32[] for _ in 1:n_features]\n",
    "\n",
    "    pipe = @streamops begin\n",
    "        @broadcast_collect begin\n",
    "            Transform(x -> x[2])                       # X\n",
    "            Transform(x -> x[2]) |> Lag{f32}(1)        # X_{t-1}\n",
    "            Transform(x -> x[2]) |> Lag{f32}(2)        # X_{t-2}\n",
    "            Transform(x -> x[2]) |> Diff{f32}(1)       # X_t - X_{t-1}\n",
    "            Transform(x -> x[2]) |> Diff{f32}(2)       # X_t - X_{t-2}\n",
    "            Transform(x -> x[2]) |> Diff{f32}(3)       # X_t - X_{t-3}\n",
    "            Transform(x -> x[2]) |> Mean{f32,f32}(3)   # mean(X_{t-3}, ..., X_t)\n",
    "            Transform(x -> x[2]) |> Mean{f32,f32}(6)   # mean(X_{t-6}, ..., X_t)\n",
    "            Transform(x -> x[2]) |> Mean{f32,f32}(12)  # mean(X_{t-12}, ..., X_t)\n",
    "            Transform(x -> x[2]) |> Mean{f32,f32}(24)  # mean(X_{t-24}, ..., X_t)\n",
    "            Transform(x -> x[2]) |> Mean{f32,f32}(48)  # mean(X_{t-48}, ..., X_t)\n",
    "        end\n",
    "    end\n",
    "\n",
    "    pipe.(data)\n",
    "end\n",
    "\n",
    "@time run()"
   ]
  }
 ],
 "metadata": {
  "kernelspec": {
   "display_name": "Julia 1.10.0",
   "language": "julia",
   "name": "julia-1.10"
  },
  "language_info": {
   "file_extension": ".jl",
   "mimetype": "application/julia",
   "name": "julia",
   "version": "1.10.0"
  }
 },
 "nbformat": 4,
 "nbformat_minor": 2
}
