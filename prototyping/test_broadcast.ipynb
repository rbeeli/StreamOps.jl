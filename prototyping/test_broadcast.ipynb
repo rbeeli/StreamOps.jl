{
 "cells": [
  {
   "cell_type": "code",
   "execution_count": null,
   "metadata": {},
   "outputs": [],
   "source": [
    "include(\"src/macros.jl\");\n",
    "include(\"src/ops/Transform.jl\");\n",
    "include(\"src/ops/Apply.jl\");\n",
    "include(\"src/ops/Lag.jl\");\n",
    "\n",
    "pipe = @streamops begin\n",
    "    @broadcast_collect begin\n",
    "        Transform(x -> string(x))\n",
    "        Transform(x -> x^2) |> Lag{Float32}(1)\n",
    "    end\n",
    "\n",
    "    Apply(dump)\n",
    "end\n",
    "\n",
    "pipe(1.0)\n",
    "pipe(2.0)\n",
    "pipe(3.0)\n",
    "pipe(4.0)\n",
    "pipe(5.0)"
   ]
  },
  {
   "cell_type": "code",
   "execution_count": null,
   "metadata": {},
   "outputs": [],
   "source": [
    "include(\"src/macros.jl\");\n",
    "include(\"src/ops/Transform.jl\");\n",
    "include(\"src/ops/Apply.jl\");\n",
    "include(\"src/ops/Lag.jl\");\n",
    "\n",
    "pipe = @streamops begin\n",
    "    @broadcast begin\n",
    "        Transform(x -> string(x))\n",
    "        Transform(x -> x^2) |> Lag{Float32}(1)\n",
    "    end\n",
    "\n",
    "    Apply(dump)\n",
    "end\n",
    "\n",
    "pipe(1.0)\n",
    "pipe(2.0)\n",
    "pipe(3.0)\n",
    "pipe(4.0)\n",
    "pipe(5.0)"
   ]
  },
  {
   "cell_type": "code",
   "execution_count": 19,
   "metadata": {},
   "outputs": [
    {
     "name": "stdout",
     "output_type": "stream",
     "text": [
      "MethodInstance for (::var\"#146#149\"{Apply{typeof(dump)}, Lag{Float32}, Transform{var\"#145#148\"}, Transform{var\"#144#147\"}})(::Float64)\n",
      "  from (::var\"#146#149\")(\u001b[90mx\u001b[39m::\u001b[1mvar\"#309#T\"\u001b[22m) where var\"#309#T\"\u001b[90m @\u001b[39m \u001b[90mMain\u001b[39m \u001b[90m/mnt/data/repos/StreamOps.jl/src/\u001b[39m\u001b[90m\u001b[4mmacros.jl:320\u001b[24m\u001b[39m\n",
      "Static Parameters\n",
      "  #309#T = \u001b[36mFloat64\u001b[39m\n",
      "Arguments\n",
      "  #self#\u001b[36m::var\"#146#149\"{Apply{typeof(dump)}, Lag{Float32}, Transform{var\"#145#148\"}, Transform{var\"#144#147\"}}\u001b[39m\n",
      "  x\u001b[36m::Float64\u001b[39m\n",
      "Locals\n",
      "  ##call#365\u001b[36m::Float64\u001b[39m\n",
      "  ##call#361\u001b[36m::Float32\u001b[39m\n",
      "  ##call#359\u001b[36m::Float64\u001b[39m\n",
      "  ##|>#362\u001b[36m::Float32\u001b[39m\n",
      "  ##call#357\u001b[36m::String\u001b[39m\n",
      "  ##broadcast#363\u001b[36m::Float64\u001b[39m\n",
      "  ##op#366\u001b[36m::Float64\u001b[39m\n",
      "Body\u001b[36m::Float64\u001b[39m\n",
      "\u001b[90m1 ─\u001b[39m %1  = Core.getfield(#self#, Symbol(\"#297###state#356\"))\u001b[36m::Core.Const(Transform{var\"#144#147\"}(var\"#144#147\"()))\u001b[39m\n",
      "\u001b[90m│  \u001b[39m       (##call#357 = (%1)(x))\n",
      "\u001b[90m│  \u001b[39m %3  = Core.getfield(#self#, Symbol(\"#298###state#358\"))\u001b[36m::Core.Const(Transform{var\"#145#148\"}(var\"#145#148\"()))\u001b[39m\n",
      "\u001b[90m│  \u001b[39m       (##call#359 = (%3)(x))\n",
      "\u001b[90m│  \u001b[39m %5  = Core.getfield(#self#, Symbol(\"#299###state#360\"))\u001b[36m::Lag{Float32}\u001b[39m\n",
      "\u001b[90m│  \u001b[39m %6  = (%5)(##call#359)\u001b[36m::Float32\u001b[39m\n",
      "\u001b[90m│  \u001b[39m       (##call#361 = %6)\n",
      "\u001b[90m│  \u001b[39m       (##|>#362 = %6)\n",
      "\u001b[90m│  \u001b[39m       (##broadcast#363 = x)\n",
      "\u001b[90m│  \u001b[39m %10 = Core.getfield(#self#, Symbol(\"#300###state#364\"))\u001b[36m::Core.Const(Apply{typeof(dump)}(dump))\u001b[39m\n",
      "\u001b[90m│  \u001b[39m %11 = (%10)(##broadcast#363)\u001b[36m::Float64\u001b[39m\n",
      "\u001b[90m│  \u001b[39m       (##call#365 = %11)\n",
      "\u001b[90m│  \u001b[39m       (##op#366 = %11)\n",
      "\u001b[90m└──\u001b[39m       return %11\n",
      "\n"
     ]
    }
   ],
   "source": [
    "@code_warntype pipe(1.0)"
   ]
  },
  {
   "cell_type": "code",
   "execution_count": 18,
   "metadata": {},
   "outputs": [
    {
     "data": {
      "text/plain": [
       "quote\n",
       "    \u001b[90m#= /mnt/data/repos/StreamOps.jl/src/macros.jl:319 =#\u001b[39m\n",
       "    local var\"#336###state#389\" = Transform((x->begin\n",
       "                        \u001b[90m#= /mnt/data/repos/StreamOps.jl/test_broadcast.ipynb:3 =#\u001b[39m\n",
       "                        string(x)\n",
       "                    end))\n",
       "    local var\"#337###state#391\" = Transform((x->begin\n",
       "                        \u001b[90m#= /mnt/data/repos/StreamOps.jl/test_broadcast.ipynb:4 =#\u001b[39m\n",
       "                        x ^ 2\n",
       "                    end))\n",
       "    local var\"#338###state#393\" = Lag{Float32}(1)\n",
       "    local var\"#339###state#397\" = Apply(dump)\n",
       "    \u001b[90m#= /mnt/data/repos/StreamOps.jl/src/macros.jl:320 =#\u001b[39m\n",
       "    function (var\"#347#x\"::var\"#348#T\",) where var\"#348#T\"\n",
       "        \u001b[90m#= /mnt/data/repos/StreamOps.jl/src/macros.jl:320 =#\u001b[39m\n",
       "        \u001b[90m#= /mnt/data/repos/StreamOps.jl/src/macros.jl:321 =#\u001b[39m\n",
       "        begin\n",
       "            local var\"#340###op#399\" = begin\n",
       "                        local var\"#341###broadcast_collect#396\" = begin\n",
       "                                    local var\"#342###call#390\" = var\"#336###state#389\"(var\"#347#x\")\n",
       "                                    local var\"#343###|>#395\" = begin\n",
       "                                                local var\"#344###call#392\" = var\"#337###state#391\"(var\"#347#x\")\n",
       "                                                local var\"#345###call#394\" = var\"#338###state#393\"(var\"#344###call#392\")\n",
       "                                            end\n",
       "                                    (var\"#342###call#390\", var\"#343###|>#395\")\n",
       "                                end\n",
       "                        local var\"#346###call#398\" = var\"#339###state#397\"(var\"#341###broadcast_collect#396\")\n",
       "                    end\n",
       "        end\n",
       "    end\n",
       "end"
      ]
     },
     "metadata": {},
     "output_type": "display_data"
    }
   ],
   "source": [
    "@macroexpand @streamops begin\n",
    "    @broadcast_collect begin\n",
    "        Transform(x -> string(x))\n",
    "        Transform(x -> x^2) |> Lag{Float32}(1)\n",
    "    end\n",
    "\n",
    "    Apply(dump)\n",
    "end"
   ]
  },
  {
   "cell_type": "code",
   "execution_count": 17,
   "metadata": {},
   "outputs": [
    {
     "data": {
      "text/plain": [
       "quote\n",
       "    \u001b[90m#= /mnt/data/repos/StreamOps.jl/src/macros.jl:319 =#\u001b[39m\n",
       "    local var\"#323###state#378\" = Transform((x->begin\n",
       "                        \u001b[90m#= /mnt/data/repos/StreamOps.jl/test_broadcast.ipynb:3 =#\u001b[39m\n",
       "                        string(x)\n",
       "                    end))\n",
       "    local var\"#324###state#380\" = Transform((x->begin\n",
       "                        \u001b[90m#= /mnt/data/repos/StreamOps.jl/test_broadcast.ipynb:4 =#\u001b[39m\n",
       "                        x ^ 2\n",
       "                    end))\n",
       "    local var\"#325###state#382\" = Lag{Float32}(1)\n",
       "    local var\"#326###state#386\" = Apply(dump)\n",
       "    \u001b[90m#= /mnt/data/repos/StreamOps.jl/src/macros.jl:320 =#\u001b[39m\n",
       "    function (var\"#334#x\"::var\"#335#T\",) where var\"#335#T\"\n",
       "        \u001b[90m#= /mnt/data/repos/StreamOps.jl/src/macros.jl:320 =#\u001b[39m\n",
       "        \u001b[90m#= /mnt/data/repos/StreamOps.jl/src/macros.jl:321 =#\u001b[39m\n",
       "        begin\n",
       "            local var\"#327###op#388\" = begin\n",
       "                        local var\"#328###broadcast#385\" = begin\n",
       "                                    \u001b[90m#= /mnt/data/repos/StreamOps.jl/src/macros.jl:186 =#\u001b[39m\n",
       "                                    begin\n",
       "                                        local var\"#329###call#379\" = var\"#323###state#378\"(var\"#334#x\")\n",
       "                                        local var\"#330###|>#384\" = begin\n",
       "                                                    local var\"#331###call#381\" = var\"#324###state#380\"(var\"#334#x\")\n",
       "                                                    local var\"#332###call#383\" = var\"#325###state#382\"(var\"#331###call#381\")\n",
       "                                                end\n",
       "                                    end\n",
       "                                    \u001b[90m#= /mnt/data/repos/StreamOps.jl/src/macros.jl:187 =#\u001b[39m\n",
       "                                    var\"#334#x\"\n",
       "                                end\n",
       "                        local var\"#333###call#387\" = var\"#326###state#386\"(var\"#328###broadcast#385\")\n",
       "                    end\n",
       "        end\n",
       "    end\n",
       "end"
      ]
     },
     "metadata": {},
     "output_type": "display_data"
    }
   ],
   "source": [
    "@macroexpand @streamops begin\n",
    "    @broadcast begin\n",
    "        Transform(x -> string(x))\n",
    "        Transform(x -> x^2) |> Lag{Float32}(1)\n",
    "    end\n",
    "\n",
    "    Apply(dump)\n",
    "end"
   ]
  }
 ],
 "metadata": {
  "kernelspec": {
   "display_name": "Julia 1.10.0",
   "language": "julia",
   "name": "julia-1.10"
  },
  "language_info": {
   "file_extension": ".jl",
   "mimetype": "application/julia",
   "name": "julia",
   "version": "1.10.0"
  }
 },
 "nbformat": 4,
 "nbformat_minor": 2
}
