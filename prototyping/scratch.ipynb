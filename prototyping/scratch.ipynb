{
 "cells": [
  {
   "cell_type": "code",
   "execution_count": 2,
   "metadata": {},
   "outputs": [
    {
     "data": {
      "text/plain": [
       "6-element Vector{Float64}:\n",
       "  2.2737367544323206e-13\n",
       " -5.684341886080802e-14\n",
       " -2.984279490192421e-13\n",
       " -2.5934809855243657e-13\n",
       " -7.275957614183426e-12\n",
       "  2.3283064365386963e-10"
      ]
     },
     "metadata": {},
     "output_type": "display_data"
    }
   ],
   "source": [
    "a = [1176.1250000000002, 118.37995495495494, 14.638763268218701, \n",
    "24.06888292397774, 11487.74684537913, 142707.14768944355]\n",
    "b = [1176.125, 118.379954954955, 14.638763268219, 24.068882923978,\n",
    "11487.746845379137, 142707.1476894433]\n",
    "\n",
    "a .- b"
   ]
  },
  {
   "cell_type": "code",
   "execution_count": 3,
   "metadata": {},
   "outputs": [
    {
     "data": {
      "text/plain": [
       "true"
      ]
     },
     "metadata": {},
     "output_type": "display_data"
    }
   ],
   "source": [
    "a ≈ b"
   ]
  }
 ],
 "metadata": {
  "kernelspec": {
   "display_name": "Julia 1.10.0",
   "language": "julia",
   "name": "julia-1.10"
  },
  "language_info": {
   "file_extension": ".jl",
   "mimetype": "application/julia",
   "name": "julia",
   "version": "1.10.0"
  }
 },
 "nbformat": 4,
 "nbformat_minor": 2
}
