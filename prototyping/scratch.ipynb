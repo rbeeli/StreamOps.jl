{
 "cells": [
  {
   "cell_type": "code",
   "execution_count": 1,
   "metadata": {},
   "outputs": [
    {
     "data": {
      "text/plain": [
       "_siftdown! (generic function with 1 method)"
      ]
     },
     "metadata": {},
     "output_type": "display_data"
    }
   ],
   "source": [
    "import Base: push!, pop!, isempty\n",
    "\n",
    "mutable struct BinaryMinHeap{T}\n",
    "    data::Vector{T}\n",
    "    BinaryMinHeap{T}() where T = new(T[])\n",
    "end\n",
    "\n",
    "@inline function Base.push!(heap::BinaryMinHeap{T}, value::T) where T\n",
    "    data = heap.data\n",
    "    len = length(data) + 1\n",
    "    resize!(data, len)\n",
    "    _siftup!(data, len, value)\n",
    "    heap\n",
    "end\n",
    "\n",
    "@inline function Base.pop!(heap::BinaryMinHeap{T}) where T\n",
    "    data = heap.data\n",
    "    lastelt = pop!(data)\n",
    "    if !isempty(data)\n",
    "        returnitem = @inbounds data[1]\n",
    "        _siftdown!(data, 1, lastelt)\n",
    "        returnitem\n",
    "    else\n",
    "        lastelt\n",
    "    end\n",
    "end\n",
    "\n",
    "@inline Base.isempty(heap::BinaryMinHeap) = isempty(heap.data)\n",
    "\n",
    "@inline function _siftup!(data::Vector{T}, mut_pos::Int, value::T) where T\n",
    "    @inbounds while mut_pos > 1\n",
    "        parentpos = mut_pos >>> 1\n",
    "        parent = data[parentpos]\n",
    "        if value < parent\n",
    "            data[mut_pos] = parent\n",
    "            mut_pos = parentpos\n",
    "        else\n",
    "            break\n",
    "        end\n",
    "    end\n",
    "    @inbounds data[mut_pos] = value\n",
    "end\n",
    "\n",
    "@inline function _siftdown!(data::Vector{T}, mut_pos::Int, value::T) where T\n",
    "    len = length(data)\n",
    "    half = len >>> 1\n",
    "    @inbounds while mut_pos <= half\n",
    "        childpos = mut_pos << 1\n",
    "        child = data[childpos]\n",
    "        rightpos = childpos + 1\n",
    "        if rightpos <= len && data[rightpos] < child\n",
    "            childpos = rightpos\n",
    "            child = data[rightpos]\n",
    "        end\n",
    "        if child < value\n",
    "            data[mut_pos] = child\n",
    "            mut_pos = childpos\n",
    "        else\n",
    "            break\n",
    "        end\n",
    "    end\n",
    "    @inbounds data[mut_pos] = value\n",
    "end\n"
   ]
  },
  {
   "cell_type": "code",
   "execution_count": 2,
   "metadata": {},
   "outputs": [
    {
     "name": "stdout",
     "output_type": "stream",
     "text": [
      "Running benchmarks with 1000 elements\n"
     ]
    },
    {
     "name": "stderr",
     "output_type": "stream",
     "text": [
      "WARNING: using DataStructures.BinaryMinHeap in module Main conflicts with an existing identifier.\n"
     ]
    },
    {
     "name": "stdout",
     "output_type": "stream",
     "text": [
      "Custom          Push: TrialEstimate(12.102 μs)\n",
      "DataStructures  Push: TrialEstimate(10.135 μs)\n",
      "Custom          Pop:  TrialEstimate(24.002 μs)\n",
      "DataStructures  Pop:  TrialEstimate(18.501 μs)\n",
      "\n",
      "Running benchmarks with 300000 elements\n",
      "Custom          Push: TrialEstimate(4.009 ms)\n",
      "DataStructures  Push: TrialEstimate(3.888 ms)\n",
      "Custom          Pop:  TrialEstimate(22.775 ms)\n",
      "DataStructures  Pop:  TrialEstimate(22.559 ms)\n",
      "\n"
     ]
    }
   ],
   "source": [
    "using DataStructures\n",
    "using BenchmarkTools\n",
    "using Random\n",
    "\n",
    "# Benchmark functions\n",
    "function bench_push!(heap, values)\n",
    "    for v in values\n",
    "        push!(heap, v)\n",
    "    end\n",
    "end\n",
    "\n",
    "function bench_pop!(heap, n)\n",
    "    for _ in 1:n\n",
    "        pop!(heap)\n",
    "    end\n",
    "end\n",
    "\n",
    "function run_benchmarks(n)\n",
    "    println(\"Running benchmarks with $n elements\")\n",
    "    \n",
    "    # Generate random data\n",
    "    data = rand(Int, n)\n",
    "    \n",
    "    # Custom BinaryMinHeap\n",
    "    custom_heap = BinaryMinHeap{Int}()\n",
    "    custom_push = @benchmark bench_push!($custom_heap, $data) samples=30 evals=3\n",
    "    custom_heap = BinaryMinHeap{Int}()\n",
    "    bench_push!(custom_heap, data)\n",
    "    custom_pop = @benchmark begin\n",
    "        bench_push!($custom_heap, $data)\n",
    "        bench_pop!($custom_heap, $n)\n",
    "    end samples=30 evals=3\n",
    "    \n",
    "    # DataStructures.jl BinaryMinHeap\n",
    "    ds_heap = DataStructures.BinaryMinHeap{Int}()\n",
    "    bm_push = @benchmark bench_push!($ds_heap, $data) samples=30 evals=3\n",
    "    ds_heap = DataStructures.BinaryMinHeap{Int}()\n",
    "    bm_pop = @benchmark begin\n",
    "        bench_push!($ds_heap, $data)\n",
    "        bench_pop!($ds_heap, $n)\n",
    "    end samples=30 evals=3\n",
    "    \n",
    "    println(\"Custom          Push: \", median(custom_push))\n",
    "    println(\"DataStructures  Push: \", median(bm_push))\n",
    "    println(\"Custom          Pop:  \", median(custom_pop))\n",
    "    println(\"DataStructures  Pop:  \", median(bm_pop))\n",
    "    println()\n",
    "end\n",
    "\n",
    "# Run benchmarks for different sizes\n",
    "for n in [1_000, 300_000] #, 1_000_000]\n",
    "    run_benchmarks(n)\n",
    "end"
   ]
  }
 ],
 "metadata": {
  "kernelspec": {
   "display_name": "Julia 1.10.0",
   "language": "julia",
   "name": "julia-1.10"
  },
  "language_info": {
   "file_extension": ".jl",
   "mimetype": "application/julia",
   "name": "julia",
   "version": "1.10.0"
  }
 },
 "nbformat": 4,
 "nbformat_minor": 2
}
