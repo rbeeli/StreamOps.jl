{
 "cells": [
  {
   "cell_type": "code",
   "execution_count": 1,
   "metadata": {},
   "outputs": [],
   "source": [
    "using StreamOps"
   ]
  },
  {
   "cell_type": "code",
   "execution_count": 6,
   "metadata": {},
   "outputs": [
    {
     "name": "stdout",
     "output_type": "stream",
     "text": [
      "  0.032935 seconds\n"
     ]
    },
    {
     "data": {
      "text/plain": [
       "-99998.0"
      ]
     },
     "metadata": {},
     "output_type": "display_data"
    }
   ],
   "source": [
    "function run_test()\n",
    "\n",
    "    pipe = @streamops EWMean{Float64}(; alpha=0.1) Diff{Float64}(1) Func(x -> x + 1)\n",
    "    # pipe = OpFunc(x -> x + 1; next=OpEWMean{Float64}(0.1)) \n",
    "\n",
    "    pipe(1.0)\n",
    "\n",
    "    @time for i in 1.0:1_000_000.0\n",
    "        pipe(i)\n",
    "    end\n",
    "\n",
    "    pipe(1.0)\n",
    "end\n",
    "\n",
    "run_test()"
   ]
  },
  {
   "cell_type": "code",
   "execution_count": 7,
   "metadata": {},
   "outputs": [
    {
     "data": {
      "text/plain": [
       "quote\n",
       "    \u001b[90m#= /mnt/data/repos/StreamOps.jl/src/macros.jl:291 =#\u001b[39m\n",
       "    local var\"#126###state#255\" = Func((x->begin\n",
       "                        \u001b[90m#= /mnt/data/repos/StreamOps.jl/test_ops.ipynb:1 =#\u001b[39m\n",
       "                        x + 1\n",
       "                    end))\n",
       "    local var\"#127###state#257\" = EWMean{Float64}(; alpha = 0.1)\n",
       "    \u001b[90m#= /mnt/data/repos/StreamOps.jl/src/macros.jl:292 =#\u001b[39m\n",
       "    function (var\"#130#x\"::var\"#131#T\",) where var\"#131#T\"\n",
       "        \u001b[90m#= /mnt/data/repos/StreamOps.jl/src/macros.jl:292 =#\u001b[39m\n",
       "        \u001b[90m#= /mnt/data/repos/StreamOps.jl/src/macros.jl:293 =#\u001b[39m\n",
       "        begin\n",
       "            local var\"#128###call#256\" = var\"#126###state#255\"(var\"#130#x\")\n",
       "            local var\"#129###call#258\" = var\"#127###state#257\"(var\"#128###call#256\")\n",
       "        end\n",
       "    end\n",
       "end"
      ]
     },
     "metadata": {},
     "output_type": "display_data"
    }
   ],
   "source": [
    "@macroexpand @streamops Func(x -> x + 1) EWMean{Float64}(; alpha=0.1)"
   ]
  },
  {
   "cell_type": "code",
   "execution_count": null,
   "metadata": {},
   "outputs": [],
   "source": [
    "using BenchmarkTools\n",
    "\n",
    "function test_manual(count)\n",
    "\tlast::Ref{Float64} = Ref(Float64(NaN))\n",
    "\tpipeline = function(x)\n",
    "\t\tx = abs(x)\n",
    "\t\tx = x * x\n",
    "\t\ttmp = last[]\n",
    "\t\tlast[] = x\n",
    "\t\ttmp\n",
    "\tend\n",
    "\tcurrent::Float64 = Float64(NaN)\n",
    "\tfor i in 1:count\n",
    "\t\tcurrent = pipeline(Float64(i))\n",
    "\tend\n",
    "\tcurrent\n",
    "end\n",
    "\n",
    "function test_pipeline(count)\n",
    "\tpipeline = @pipeline OpAbs OpPrev{Float64} OpReturn\n",
    "\tcurrent::Float64 = Float64(NaN)\n",
    "\tfor i in 1:count\n",
    "\t\tcurrent = pipeline(Float64(i))\n",
    "\tend\n",
    "\tcurrent\n",
    "end\n",
    "display(@benchmark test_manual(1e6) samples = 30 evals = 3)\n",
    "display(@benchmark test_pipeline(1e6) samples = 30 evals = 3)"
   ]
  },
  {
   "cell_type": "code",
   "execution_count": null,
   "metadata": {},
   "outputs": [],
   "source": [
    "# using ProfileView\n",
    "# ProfileView.@profview map(x -> test(1e7), 1:10)\n",
    "\n",
    "# using Profile, ProfileSVG\n",
    "# @Profile.profile test_pipeline(1e8)\n",
    "# ProfileSVG.view(maxdepth=300, maxframes=3000)"
   ]
  }
 ],
 "metadata": {
  "kernelspec": {
   "display_name": "Julia 1.10.0",
   "language": "julia",
   "name": "julia-1.10"
  },
  "language_info": {
   "file_extension": ".jl",
   "mimetype": "application/julia",
   "name": "julia",
   "version": "1.10.0"
  }
 },
 "nbformat": 4,
 "nbformat_minor": 2
}
