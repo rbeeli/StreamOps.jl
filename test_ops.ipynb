{
 "cells": [
  {
   "cell_type": "code",
   "execution_count": 1,
   "metadata": {},
   "outputs": [],
   "source": [
    "using StreamOps"
   ]
  },
  {
   "cell_type": "code",
   "execution_count": null,
   "metadata": {},
   "outputs": [],
   "source": [
    "@macroexpand @pipeline OpReturn() OpPrint()"
   ]
  },
  {
   "cell_type": "code",
   "execution_count": null,
   "metadata": {},
   "outputs": [],
   "source": [
    "using BenchmarkTools\n",
    "\n",
    "function test_manual(count)\n",
    "\tlast::Ref{Float64} = Ref(Float64(NaN))\n",
    "\tpipeline = function(x)\n",
    "\t\tx = abs(x)\n",
    "\t\tx = x * x\n",
    "\t\ttmp = last[]\n",
    "\t\tlast[] = x\n",
    "\t\ttmp\n",
    "\tend\n",
    "\tcurrent::Float64 = Float64(NaN)\n",
    "\tfor i in 1:count\n",
    "\t\tcurrent = pipeline(Float64(i))\n",
    "\tend\n",
    "\tcurrent\n",
    "end\n",
    "\n",
    "function test_pipeline(count)\n",
    "\tpipeline = @pipeline OpAbs OpPrev{Float64} OpReturn\n",
    "\tcurrent::Float64 = Float64(NaN)\n",
    "\tfor i in 1:count\n",
    "\t\tcurrent = pipeline(Float64(i))\n",
    "\tend\n",
    "\tcurrent\n",
    "end\n",
    "display(@benchmark test_manual(1e6) samples = 30 evals = 3)\n",
    "display(@benchmark test_pipeline(1e6) samples = 30 evals = 3)"
   ]
  },
  {
   "cell_type": "code",
   "execution_count": null,
   "metadata": {},
   "outputs": [],
   "source": [
    "# using ProfileView\n",
    "# ProfileView.@profview map(x -> test(1e7), 1:10)\n",
    "\n",
    "# using Profile, ProfileSVG\n",
    "# @Profile.profile test_pipeline(1e8)\n",
    "# ProfileSVG.view(maxdepth=300, maxframes=3000)"
   ]
  }
 ],
 "metadata": {
  "kernelspec": {
   "display_name": "Julia 1.9.4",
   "language": "julia",
   "name": "julia-1.9"
  },
  "language_info": {
   "file_extension": ".jl",
   "mimetype": "application/julia",
   "name": "julia",
   "version": "1.9.4"
  }
 },
 "nbformat": 4,
 "nbformat_minor": 2
}
