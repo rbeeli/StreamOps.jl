{
 "cells": [
  {
   "cell_type": "code",
   "execution_count": 4,
   "metadata": {},
   "outputs": [],
   "source": [
    "using StreamOps"
   ]
  },
  {
   "cell_type": "code",
   "execution_count": 2,
   "metadata": {},
   "outputs": [
    {
     "name": "stdout",
     "output_type": "stream",
     "text": [
      "  0.004995 seconds\n"
     ]
    },
    {
     "data": {
      "text/plain": [
       "-99998.0"
      ]
     },
     "metadata": {},
     "output_type": "display_data"
    }
   ],
   "source": [
    "function run_test()\n",
    "\n",
    "    pipe = @streamops EWMean{Float64}(; alpha=0.1) Diff{Float64}(1) Func(x -> x + 1)\n",
    "    # pipe = OpFunc(x -> x + 1; next=OpEWMean{Float64}(0.1)) \n",
    "\n",
    "    pipe(1.0)\n",
    "\n",
    "    @time for i in 1.0:1_000_000.0\n",
    "        pipe(i)\n",
    "    end\n",
    "\n",
    "    pipe(1.0)\n",
    "end\n",
    "\n",
    "run_test()"
   ]
  },
  {
   "cell_type": "code",
   "execution_count": 3,
   "metadata": {},
   "outputs": [
    {
     "data": {
      "text/plain": [
       "quote\n",
       "    \u001b[90m#= /Users/rino/repos/StreamOps.jl/src/macros.jl:291 =#\u001b[39m\n",
       "    local var\"#78###state#231\" = Func((x->begin\n",
       "                        \u001b[90m#= /Users/rino/repos/StreamOps.jl/test_ops.ipynb:1 =#\u001b[39m\n",
       "                        x + 1\n",
       "                    end))\n",
       "    local var\"#79###state#233\" = EWMean{Float64}(; alpha = 0.1)\n",
       "    \u001b[90m#= /Users/rino/repos/StreamOps.jl/src/macros.jl:292 =#\u001b[39m\n",
       "    function (var\"#82#x\"::var\"#83#T\",) where var\"#83#T\"\n",
       "        \u001b[90m#= /Users/rino/repos/StreamOps.jl/src/macros.jl:292 =#\u001b[39m\n",
       "        \u001b[90m#= /Users/rino/repos/StreamOps.jl/src/macros.jl:293 =#\u001b[39m\n",
       "        begin\n",
       "            local var\"#80###call#232\" = var\"#78###state#231\"(var\"#82#x\")\n",
       "            local var\"#81###call#234\" = var\"#79###state#233\"(var\"#80###call#232\")\n",
       "        end\n",
       "    end\n",
       "end"
      ]
     },
     "metadata": {},
     "output_type": "display_data"
    }
   ],
   "source": [
    "@macroexpand @streamops Func(x -> x + 1) EWMean{Float64}(; alpha=0.1)"
   ]
  },
  {
   "cell_type": "code",
   "execution_count": 9,
   "metadata": {},
   "outputs": [
    {
     "name": "stdout",
     "output_type": "stream",
     "text": [
      "Expr\n",
      "  head: Symbol curly\n",
      "  args: Array{Any}((2,))\n",
      "    1: Symbol Prev\n",
      "    2: Symbol Float64\n"
     ]
    },
    {
     "ename": "LoadError",
     "evalue": "LoadError: Unkown operation: Prev{Float64}\nin expression starting at /Users/rino/repos/StreamOps.jl/test_ops.ipynb:20",
     "output_type": "error",
     "traceback": [
      "LoadError: Unkown operation: Prev{Float64}\n",
      "in expression starting at /Users/rino/repos/StreamOps.jl/test_ops.ipynb:20\n",
      "\n",
      "Stacktrace:\n",
      "  [1] error(s::String)\n",
      "    @ Base ./error.jl:35\n",
      "  [2] make_op(op::Expr, op_var_prev::Symbol, op_vars_all::Vector{Symbol}, state_inits::Vector{Expr}, block::Expr)\n",
      "    @ StreamOps ~/repos/StreamOps.jl/src/macros.jl:193\n",
      "  [3] make_recursive(ops::Tuple{Expr}, op_var_prev::Symbol, op_vars_all::Vector{Symbol}, state_inits::Vector{Expr}; mode::Symbol)\n",
      "    @ StreamOps ~/repos/StreamOps.jl/src/macros.jl:224\n",
      "  [4] make_recursive(ops::Tuple{Expr}, op_var_prev::Symbol, op_vars_all::Vector{Symbol}, state_inits::Vector{Expr})\n",
      "    @ StreamOps ~/repos/StreamOps.jl/src/macros.jl:212\n",
      "  [5] var\"@streamops\"(__source__::LineNumberNode, __module__::Module, ops::Vararg{Any})\n",
      "    @ StreamOps ~/repos/StreamOps.jl/src/macros.jl:283\n",
      "  [6] eval\n",
      "    @ ./boot.jl:385 [inlined]\n",
      "  [7] include_string(mapexpr::typeof(REPL.softscope), mod::Module, code::String, filename::String)\n",
      "    @ Base ./loading.jl:2076\n",
      "  [8] #invokelatest#2\n",
      "    @ ./essentials.jl:892 [inlined]\n",
      "  [9] invokelatest\n",
      "    @ ./essentials.jl:889 [inlined]\n",
      " [10] (::VSCodeServer.var\"#216#217\"{VSCodeServer.NotebookRunCellArguments, String})()\n",
      "    @ VSCodeServer ~/.vscode/extensions/julialang.language-julia-1.76.2/scripts/packages/VSCodeServer/src/serve_notebook.jl:19\n",
      " [11] withpath(f::VSCodeServer.var\"#216#217\"{VSCodeServer.NotebookRunCellArguments, String}, path::String)\n",
      "    @ VSCodeServer ~/.vscode/extensions/julialang.language-julia-1.76.2/scripts/packages/VSCodeServer/src/repl.jl:274\n",
      " [12] notebook_runcell_request(conn::VSCodeServer.JSONRPC.JSONRPCEndpoint{Base.PipeEndpoint, Base.PipeEndpoint}, params::VSCodeServer.NotebookRunCellArguments)\n",
      "    @ VSCodeServer ~/.vscode/extensions/julialang.language-julia-1.76.2/scripts/packages/VSCodeServer/src/serve_notebook.jl:13\n",
      " [13] dispatch_msg(x::VSCodeServer.JSONRPC.JSONRPCEndpoint{Base.PipeEndpoint, Base.PipeEndpoint}, dispatcher::VSCodeServer.JSONRPC.MsgDispatcher, msg::Dict{String, Any})\n",
      "    @ VSCodeServer.JSONRPC ~/.vscode/extensions/julialang.language-julia-1.76.2/scripts/packages/JSONRPC/src/typed.jl:67\n",
      " [14] serve_notebook(pipename::String, outputchannel_logger::Base.CoreLogging.SimpleLogger; crashreporting_pipename::String)\n",
      "    @ VSCodeServer ~/.vscode/extensions/julialang.language-julia-1.76.2/scripts/packages/VSCodeServer/src/serve_notebook.jl:139\n",
      " [15] top-level scope\n",
      "    @ ~/.vscode/extensions/julialang.language-julia-1.76.2/scripts/notebook/notebook.jl:35"
     ]
    }
   ],
   "source": [
    "using BenchmarkTools\n",
    "\n",
    "function test_manual(trials)\n",
    "    last::Ref{Float64} = Ref(Float64(NaN))\n",
    "    pipeline = function (x)\n",
    "        x = abs(x)\n",
    "        x = x * x\n",
    "        tmp = last[]\n",
    "        last[] = x\n",
    "        tmp\n",
    "    end\n",
    "    current::Float64 = Float64(NaN)\n",
    "    for i in 1:trials\n",
    "        current = pipeline(Float64(i))\n",
    "    end\n",
    "    current\n",
    "end\n",
    "\n",
    "function test_pipeline(count)\n",
    "\tpipeline = @streamops Prev{Float64}\n",
    "\tcurrent::Float64 = Float64(NaN)\n",
    "\tfor i in 1:count\n",
    "\t\tcurrent = pipeline(Float64(i))\n",
    "\tend\n",
    "\tcurrent\n",
    "end\n",
    "trials = 10_000_000\n",
    "println(\"Trials: $trials\")\n",
    "display(@benchmark test_manual(trials) samples = 30 evals = 3)\n",
    "display(@benchmark test_pipeline(trials) samples = 30 evals = 3)"
   ]
  },
  {
   "cell_type": "code",
   "execution_count": 8,
   "metadata": {},
   "outputs": [],
   "source": [
    "# using ProfileView\n",
    "# ProfileView.@profview map(x -> test(1e7), 1:10)\n",
    "\n",
    "# using Profile, ProfileSVG\n",
    "# @Profile.profile test_pipeline(1e8)\n",
    "# ProfileSVG.view(maxdepth=300, maxframes=3000)"
   ]
  }
 ],
 "metadata": {
  "kernelspec": {
   "display_name": "Julia 1.10.2",
   "language": "julia",
   "name": "julia-1.10"
  },
  "language_info": {
   "file_extension": ".jl",
   "mimetype": "application/julia",
   "name": "julia",
   "version": "1.10.2"
  }
 },
 "nbformat": 4,
 "nbformat_minor": 2
}
